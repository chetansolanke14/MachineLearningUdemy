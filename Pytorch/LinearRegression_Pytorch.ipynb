{
  "nbformat": 4,
  "nbformat_minor": 0,
  "metadata": {
    "colab": {
      "name": "LinearRegression_Pytorch.ipynb",
      "version": "0.3.2",
      "provenance": [],
      "include_colab_link": true
    },
    "kernelspec": {
      "name": "python3",
      "display_name": "Python 3"
    }
  },
  "cells": [
    {
      "cell_type": "markdown",
      "metadata": {
        "id": "view-in-github",
        "colab_type": "text"
      },
      "source": [
        "<a href=\"https://colab.research.google.com/github/chetansolanke14/MachineLearningUdemy/blob/master/Pytorch/LinearRegression_Pytorch.ipynb\" target=\"_parent\"><img src=\"https://colab.research.google.com/assets/colab-badge.svg\" alt=\"Open In Colab\"/></a>"
      ]
    },
    {
      "cell_type": "code",
      "metadata": {
        "id": "WrBt4qzDp-gj",
        "colab_type": "code",
        "colab": {}
      },
      "source": [
        "import torch as tch\n",
        "from torch.nn import Linear\n",
        "import torch.nn as nn\n",
        "import matplotlib.pyplot as plt\n",
        "import numpy as np"
      ],
      "execution_count": 0,
      "outputs": []
    },
    {
      "cell_type": "code",
      "metadata": {
        "id": "QbyIUHzDqDfu",
        "colab_type": "code",
        "colab": {}
      },
      "source": [
        "w = tch.tensor(3.0, requires_grad=True)\n",
        "b = tch.tensor(1.0, requires_grad=True)"
      ],
      "execution_count": 0,
      "outputs": []
    },
    {
      "cell_type": "code",
      "metadata": {
        "id": "LkmkWQ4iqsZP",
        "colab_type": "code",
        "colab": {}
      },
      "source": [
        "def forward(x):\n",
        "  y =w*x + b\n",
        "  return y"
      ],
      "execution_count": 0,
      "outputs": []
    },
    {
      "cell_type": "code",
      "metadata": {
        "id": "lianzNs7qw-o",
        "colab_type": "code",
        "colab": {}
      },
      "source": [
        "x = tch.tensor([[4],[7]])\n",
        "y=forward(x)"
      ],
      "execution_count": 0,
      "outputs": []
    },
    {
      "cell_type": "code",
      "metadata": {
        "id": "qIviEUUZq9xY",
        "colab_type": "code",
        "colab": {}
      },
      "source": [
        "tch.manual_seed(1)\n",
        "\n",
        "model =Linear(in_features=1, out_features=1)"
      ],
      "execution_count": 0,
      "outputs": []
    },
    {
      "cell_type": "code",
      "metadata": {
        "id": "iRP9DYWLrDrL",
        "colab_type": "code",
        "colab": {
          "base_uri": "https://localhost:8080/",
          "height": 68
        },
        "outputId": "d1f76ccb-c9a9-41a0-ecc5-c424be41269c"
      },
      "source": [
        "print(model.bias, model.weight)"
      ],
      "execution_count": 6,
      "outputs": [
        {
          "output_type": "stream",
          "text": [
            "Parameter containing:\n",
            "tensor([-0.4414], requires_grad=True) Parameter containing:\n",
            "tensor([[0.5153]], requires_grad=True)\n"
          ],
          "name": "stdout"
        }
      ]
    },
    {
      "cell_type": "code",
      "metadata": {
        "id": "RpK6sL0JrhRF",
        "colab_type": "code",
        "colab": {
          "base_uri": "https://localhost:8080/",
          "height": 34
        },
        "outputId": "2bbc32c6-0b00-48b3-f07e-a3ceb1526ece"
      },
      "source": [
        "x =tch.tensor([2.0])\n",
        "print(model(x))"
      ],
      "execution_count": 7,
      "outputs": [
        {
          "output_type": "stream",
          "text": [
            "tensor([0.5891], grad_fn=<AddBackward0>)\n"
          ],
          "name": "stdout"
        }
      ]
    },
    {
      "cell_type": "code",
      "metadata": {
        "id": "VQN2n3-MrrlV",
        "colab_type": "code",
        "colab": {
          "base_uri": "https://localhost:8080/",
          "height": 51
        },
        "outputId": "286bbca0-67c6-4a7f-8b4a-fe9570026688"
      },
      "source": [
        "x =tch.tensor([[2.0],[1.3]])\n",
        "print(model(x))"
      ],
      "execution_count": 8,
      "outputs": [
        {
          "output_type": "stream",
          "text": [
            "tensor([[0.5891],\n",
            "        [0.2285]], grad_fn=<AddmmBackward>)\n"
          ],
          "name": "stdout"
        }
      ]
    },
    {
      "cell_type": "markdown",
      "metadata": {
        "id": "Pzwuy_LWr8e6",
        "colab_type": "text"
      },
      "source": [
        "## Custom Model"
      ]
    },
    {
      "cell_type": "code",
      "metadata": {
        "id": "ocHVXhEvrxkq",
        "colab_type": "code",
        "colab": {}
      },
      "source": [
        "class LR(nn.Module):\n",
        "  def __init__(self, input_size,output_size):\n",
        "    super().__init__()\n",
        "    self.linear =nn.Linear(input_size,output_size)\n",
        "    \n",
        "  def forward(self,x):\n",
        "    pred=self.linear(x)\n",
        "    return pred"
      ],
      "execution_count": 0,
      "outputs": []
    },
    {
      "cell_type": "code",
      "metadata": {
        "id": "-wBteXdXskXi",
        "colab_type": "code",
        "colab": {
          "base_uri": "https://localhost:8080/",
          "height": 68
        },
        "outputId": "295cc2dc-2966-40f1-846d-ff62c54c3b05"
      },
      "source": [
        "tch.manual_seed(1)\n",
        "model =LR(1,1)\n",
        "print(list(model.parameters()))"
      ],
      "execution_count": 10,
      "outputs": [
        {
          "output_type": "stream",
          "text": [
            "[Parameter containing:\n",
            "tensor([[0.5153]], requires_grad=True), Parameter containing:\n",
            "tensor([-0.4414], requires_grad=True)]\n"
          ],
          "name": "stdout"
        }
      ]
    },
    {
      "cell_type": "code",
      "metadata": {
        "id": "BgohbShasxxD",
        "colab_type": "code",
        "colab": {
          "base_uri": "https://localhost:8080/",
          "height": 34
        },
        "outputId": "2c950b0a-8c90-43a8-ae44-f253b6081d32"
      },
      "source": [
        "x =tch.tensor([1.0])\n",
        "print(model.forward(x))"
      ],
      "execution_count": 11,
      "outputs": [
        {
          "output_type": "stream",
          "text": [
            "tensor([0.0739], grad_fn=<AddBackward0>)\n"
          ],
          "name": "stdout"
        }
      ]
    },
    {
      "cell_type": "code",
      "metadata": {
        "id": "oVY_PcbDtOLX",
        "colab_type": "code",
        "colab": {
          "base_uri": "https://localhost:8080/",
          "height": 51
        },
        "outputId": "fda99399-95b7-42f3-a057-c9514b311b36"
      },
      "source": [
        "x =tch.tensor([[1.0],[2.0]])\n",
        "print(model.forward(x))"
      ],
      "execution_count": 12,
      "outputs": [
        {
          "output_type": "stream",
          "text": [
            "tensor([[0.0739],\n",
            "        [0.5891]], grad_fn=<AddmmBackward>)\n"
          ],
          "name": "stdout"
        }
      ]
    },
    {
      "cell_type": "markdown",
      "metadata": {
        "id": "_R8q_fcAtdLO",
        "colab_type": "text"
      },
      "source": [
        "### Creating Dataset"
      ]
    },
    {
      "cell_type": "code",
      "metadata": {
        "id": "0xDzgBgvtVt7",
        "colab_type": "code",
        "colab": {
          "base_uri": "https://localhost:8080/",
          "height": 300
        },
        "outputId": "c1b5a99e-6412-4ace-957b-597a0fbe0ac9"
      },
      "source": [
        "x= tch.randn(100,1)*10\n",
        "y = x + 3*tch.randn(100,1)\n",
        "plt.plot(x.numpy(),y.numpy(),'o')\n",
        "plt.ylabel('y')\n",
        "plt.xlabel('x')"
      ],
      "execution_count": 2,
      "outputs": [
        {
          "output_type": "execute_result",
          "data": {
            "text/plain": [
              "Text(0.5, 0, 'x')"
            ]
          },
          "metadata": {
            "tags": []
          },
          "execution_count": 2
        },
        {
          "output_type": "display_data",
          "data": {
            "image/png": "[encoded data removed]",
            "text/plain": [
              "<Figure size 432x288 with 1 Axes>"
            ]
          },
          "metadata": {
            "tags": []
          }
        }
      ]
    },
    {
      "cell_type": "code",
      "metadata": {
        "id": "YDlolLomtxVy",
        "colab_type": "code",
        "colab": {}
      },
      "source": [
        "class LR(nn.Module):\n",
        "  def __init__(self, input_size,output_size):\n",
        "    super().__init__()\n",
        "    self.linear =nn.Linear(input_size,output_size)\n",
        "    \n",
        "  def forward(self,x):\n",
        "    pred=self.linear(x)\n",
        "    return pred"
      ],
      "execution_count": 0,
      "outputs": []
    },
    {
      "cell_type": "code",
      "metadata": {
        "id": "axtSyCy9uiIU",
        "colab_type": "code",
        "colab": {
          "base_uri": "https://localhost:8080/",
          "height": 68
        },
        "outputId": "1468fc7e-7f9d-435e-f27f-1175e25e1647"
      },
      "source": [
        "tch.manual_seed(1)\n",
        "model =LR(1,1)\n",
        "print(list(model.parameters()))"
      ],
      "execution_count": 4,
      "outputs": [
        {
          "output_type": "stream",
          "text": [
            "[Parameter containing:\n",
            "tensor([[0.5153]], requires_grad=True), Parameter containing:\n",
            "tensor([-0.4414], requires_grad=True)]\n"
          ],
          "name": "stdout"
        }
      ]
    },
    {
      "cell_type": "code",
      "metadata": {
        "id": "2ZE0MS1Zul1z",
        "colab_type": "code",
        "colab": {
          "base_uri": "https://localhost:8080/",
          "height": 68
        },
        "outputId": "1d519eda-19b2-4077-a423-089456fb42d2"
      },
      "source": [
        "[w,b] = model.parameters()\n",
        "print(w,b)"
      ],
      "execution_count": 5,
      "outputs": [
        {
          "output_type": "stream",
          "text": [
            "Parameter containing:\n",
            "tensor([[0.5153]], requires_grad=True) Parameter containing:\n",
            "tensor([-0.4414], requires_grad=True)\n"
          ],
          "name": "stdout"
        }
      ]
    },
    {
      "cell_type": "code",
      "metadata": {
        "id": "D1upH8Gm1MJO",
        "colab_type": "code",
        "colab": {
          "base_uri": "https://localhost:8080/",
          "height": 119
        },
        "outputId": "30a5c301-63d3-4a38-d37a-6ccffd101b99"
      },
      "source": [
        "print(w)\n",
        "print('*****************')\n",
        "print(w[0])\n",
        "print('*****************')\n",
        "print(w[0][0])"
      ],
      "execution_count": 6,
      "outputs": [
        {
          "output_type": "stream",
          "text": [
            "Parameter containing:\n",
            "tensor([[0.5153]], requires_grad=True)\n",
            "*****************\n",
            "tensor([0.5153], grad_fn=<SelectBackward>)\n",
            "*****************\n",
            "tensor(0.5153, grad_fn=<SelectBackward>)\n"
          ],
          "name": "stdout"
        }
      ]
    },
    {
      "cell_type": "code",
      "metadata": {
        "id": "3bLiTI53up2s",
        "colab_type": "code",
        "colab": {
          "base_uri": "https://localhost:8080/",
          "height": 34
        },
        "outputId": "32c1d982-bb6c-4cff-967a-f6a48023f54b"
      },
      "source": [
        "w1 = w[0][0]\n",
        "b1 = b[0].item()\n",
        "print(w1,b1)\n",
        "\n",
        "def get_params():\n",
        "  return (w[0][0].item(),b[0].item())"
      ],
      "execution_count": 7,
      "outputs": [
        {
          "output_type": "stream",
          "text": [
            "tensor(0.5153, grad_fn=<SelectBackward>) -0.44137823581695557\n"
          ],
          "name": "stdout"
        }
      ]
    },
    {
      "cell_type": "code",
      "metadata": {
        "id": "Jgx_m8FFvGrv",
        "colab_type": "code",
        "colab": {}
      },
      "source": [
        "def plot_fit(title):\n",
        "  plt.title =title\n",
        "  w1,b1 =get_params()\n",
        "  x1 =np.array([-30,30])\n",
        "  y1 =w1*x1 +b1\n",
        "  plt.plot(x1,y1,'r')\n",
        "  plt.scatter(x,y)\n",
        "  plt.show()"
      ],
      "execution_count": 0,
      "outputs": []
    },
    {
      "cell_type": "code",
      "metadata": {
        "id": "4lz4sxDmvoJW",
        "colab_type": "code",
        "colab": {
          "base_uri": "https://localhost:8080/",
          "height": 269
        },
        "outputId": "1a20e138-f28e-435e-8eec-32d0709d2ad1"
      },
      "source": [
        "plot_fit('Initial Model')"
      ],
      "execution_count": 9,
      "outputs": [
        {
          "output_type": "display_data",
          "data": {
            "image/png": "[encoded data removed]",
            "text/plain": [
              "<Figure size 432x288 with 1 Axes>"
            ]
          },
          "metadata": {
            "tags": []
          }
        }
      ]
    },
    {
      "cell_type": "markdown",
      "metadata": {
        "id": "dChYJCu4UPEE",
        "colab_type": "text"
      },
      "source": [
        "### Gradient Descent\n",
        "\n",
        "\n",
        "Mean Square Error:  1/n (sum(y -(mx+b))).squarer()\n"
      ]
    },
    {
      "cell_type": "code",
      "metadata": {
        "id": "oURIpcwwwCEj",
        "colab_type": "code",
        "colab": {}
      },
      "source": [
        "#Implement GD\n",
        "\n",
        "criterian =nn.MSELoss()\n",
        "optimizer = tch.optim.SGD(model.parameters(), lr=0.01)\n",
        "\n"
      ],
      "execution_count": 0,
      "outputs": []
    },
    {
      "cell_type": "code",
      "metadata": {
        "id": "_yoGJB5PWEWC",
        "colab_type": "code",
        "colab": {
          "base_uri": "https://localhost:8080/",
          "height": 1000
        },
        "outputId": "c176d129-8587-475c-8f58-a1a5bb7a8eac"
      },
      "source": [
        "epochs =100\n",
        "losses=[]\n",
        "for i in range(epochs):\n",
        "  y_pred = model.forward(x)\n",
        "  loss =criterian(y_pred,y)\n",
        "  print('epoch : ', i, 'Loss: ' ,loss.item())\n",
        "  \n",
        "  losses.append(loss)\n",
        "  optimizer.zero_grad()\n",
        "  loss.backward()\n",
        "  optimizer.step()"
      ],
      "execution_count": 11,
      "outputs": [
        {
          "output_type": "stream",
          "text": [
            "epoch :  0 Loss:  30.315725326538086\n",
            "epoch :  1 Loss:  21.19086265563965\n",
            "epoch :  2 Loss:  15.934663772583008\n",
            "epoch :  3 Loss:  12.906320571899414\n",
            "epoch :  4 Loss:  11.160967826843262\n",
            "epoch :  5 Loss:  10.154484748840332\n",
            "epoch :  6 Loss:  9.573540687561035\n",
            "epoch :  7 Loss:  9.237695693969727\n",
            "epoch :  8 Loss:  9.043045043945312\n",
            "epoch :  9 Loss:  8.9297513961792\n",
            "epoch :  10 Loss:  8.863354682922363\n",
            "epoch :  11 Loss:  8.824007034301758\n",
            "epoch :  12 Loss:  8.800280570983887\n",
            "epoch :  13 Loss:  8.785592079162598\n",
            "epoch :  14 Loss:  8.77614688873291\n",
            "epoch :  15 Loss:  8.769760131835938\n",
            "epoch :  16 Loss:  8.76517105102539\n",
            "epoch :  17 Loss:  8.761652946472168\n",
            "epoch :  18 Loss:  8.758787155151367\n",
            "epoch :  19 Loss:  8.756328582763672\n",
            "epoch :  20 Loss:  8.754136085510254\n",
            "epoch :  21 Loss:  8.752126693725586\n",
            "epoch :  22 Loss:  8.750252723693848\n",
            "epoch :  23 Loss:  8.748485565185547\n",
            "epoch :  24 Loss:  8.746805191040039\n",
            "epoch :  25 Loss:  8.745201110839844\n",
            "epoch :  26 Loss:  8.74366569519043\n",
            "epoch :  27 Loss:  8.742194175720215\n",
            "epoch :  28 Loss:  8.74078369140625\n",
            "epoch :  29 Loss:  8.73942756652832\n",
            "epoch :  30 Loss:  8.73812484741211\n",
            "epoch :  31 Loss:  8.7368745803833\n",
            "epoch :  32 Loss:  8.735672950744629\n",
            "epoch :  33 Loss:  8.734518051147461\n",
            "epoch :  34 Loss:  8.73340892791748\n",
            "epoch :  35 Loss:  8.732343673706055\n",
            "epoch :  36 Loss:  8.731319427490234\n",
            "epoch :  37 Loss:  8.730335235595703\n",
            "epoch :  38 Loss:  8.729389190673828\n",
            "epoch :  39 Loss:  8.728480339050293\n",
            "epoch :  40 Loss:  8.727606773376465\n",
            "epoch :  41 Loss:  8.726767539978027\n",
            "epoch :  42 Loss:  8.725961685180664\n",
            "epoch :  43 Loss:  8.725186347961426\n",
            "epoch :  44 Loss:  8.724441528320312\n",
            "epoch :  45 Loss:  8.723726272583008\n",
            "epoch :  46 Loss:  8.723038673400879\n",
            "epoch :  47 Loss:  8.72237777709961\n",
            "epoch :  48 Loss:  8.721742630004883\n",
            "epoch :  49 Loss:  8.7211332321167\n",
            "epoch :  50 Loss:  8.72054672241211\n",
            "epoch :  51 Loss:  8.719983100891113\n",
            "epoch :  52 Loss:  8.719442367553711\n",
            "epoch :  53 Loss:  8.718921661376953\n",
            "epoch :  54 Loss:  8.718421936035156\n",
            "epoch :  55 Loss:  8.717941284179688\n",
            "epoch :  56 Loss:  8.717479705810547\n",
            "epoch :  57 Loss:  8.717036247253418\n",
            "epoch :  58 Loss:  8.716609954833984\n",
            "epoch :  59 Loss:  8.716200828552246\n",
            "epoch :  60 Loss:  8.71580696105957\n",
            "epoch :  61 Loss:  8.715429306030273\n",
            "epoch :  62 Loss:  8.715065956115723\n",
            "epoch :  63 Loss:  8.714715957641602\n",
            "epoch :  64 Loss:  8.714381217956543\n",
            "epoch :  65 Loss:  8.714057922363281\n",
            "epoch :  66 Loss:  8.71374797821045\n",
            "epoch :  67 Loss:  8.71345043182373\n",
            "epoch :  68 Loss:  8.713165283203125\n",
            "epoch :  69 Loss:  8.712889671325684\n",
            "epoch :  70 Loss:  8.712625503540039\n",
            "epoch :  71 Loss:  8.712370872497559\n",
            "epoch :  72 Loss:  8.712127685546875\n",
            "epoch :  73 Loss:  8.711893081665039\n",
            "epoch :  74 Loss:  8.711668014526367\n",
            "epoch :  75 Loss:  8.711451530456543\n",
            "epoch :  76 Loss:  8.71124267578125\n",
            "epoch :  77 Loss:  8.711043357849121\n",
            "epoch :  78 Loss:  8.710851669311523\n",
            "epoch :  79 Loss:  8.71066665649414\n",
            "epoch :  80 Loss:  8.710489273071289\n",
            "epoch :  81 Loss:  8.710318565368652\n",
            "epoch :  82 Loss:  8.710155487060547\n",
            "epoch :  83 Loss:  8.70999813079834\n",
            "epoch :  84 Loss:  8.709846496582031\n",
            "epoch :  85 Loss:  8.709701538085938\n",
            "epoch :  86 Loss:  8.709561347961426\n",
            "epoch :  87 Loss:  8.709426879882812\n",
            "epoch :  88 Loss:  8.709298133850098\n",
            "epoch :  89 Loss:  8.709174156188965\n",
            "epoch :  90 Loss:  8.709054946899414\n",
            "epoch :  91 Loss:  8.708940505981445\n",
            "epoch :  92 Loss:  8.708830833435059\n",
            "epoch :  93 Loss:  8.708725929260254\n",
            "epoch :  94 Loss:  8.708623886108398\n",
            "epoch :  95 Loss:  8.708526611328125\n",
            "epoch :  96 Loss:  8.708433151245117\n",
            "epoch :  97 Loss:  8.708342552185059\n",
            "epoch :  98 Loss:  8.708255767822266\n",
            "epoch :  99 Loss:  8.708172798156738\n"
          ],
          "name": "stdout"
        }
      ]
    },
    {
      "cell_type": "code",
      "metadata": {
        "id": "cn4oqm6kW7Yo",
        "colab_type": "code",
        "colab": {
          "base_uri": "https://localhost:8080/",
          "height": 34
        },
        "outputId": "e528d2c0-e8b8-4bcb-9277-15a496c30715"
      },
      "source": [
        "loss"
      ],
      "execution_count": 23,
      "outputs": [
        {
          "output_type": "execute_result",
          "data": {
            "text/plain": [
              "tensor(4.8947e+11, grad_fn=<MseLossBackward>)"
            ]
          },
          "metadata": {
            "tags": []
          },
          "execution_count": 23
        }
      ]
    },
    {
      "cell_type": "code",
      "metadata": {
        "id": "da7ZrgjqXfJ4",
        "colab_type": "code",
        "colab": {
          "base_uri": "https://localhost:8080/",
          "height": 300
        },
        "outputId": "07e080c4-0e47-4216-cb73-5f041e4086cf"
      },
      "source": [
        "plt.plot(range(epochs), losses)\n",
        "plt.xlabel('Epoch')\n",
        "plt.ylabel('loss')"
      ],
      "execution_count": 12,
      "outputs": [
        {
          "output_type": "execute_result",
          "data": {
            "text/plain": [
              "Text(0, 0.5, 'loss')"
            ]
          },
          "metadata": {
            "tags": []
          },
          "execution_count": 12
        },
        {
          "output_type": "display_data",
          "data": {
            "image/png": "[encoded data removed]",
            "text/plain": [
              "<Figure size 432x288 with 1 Axes>"
            ]
          },
          "metadata": {
            "tags": []
          }
        }
      ]
    },
    {
      "cell_type": "code",
      "metadata": {
        "id": "7PJ-1_TZXlZl",
        "colab_type": "code",
        "colab": {
          "base_uri": "https://localhost:8080/",
          "height": 269
        },
        "outputId": "e00c8497-bc0f-49fc-be3e-87ec92b8a7ed"
      },
      "source": [
        "plot_fit('Training Data')"
      ],
      "execution_count": 13,
      "outputs": [
        {
          "output_type": "display_data",
          "data": {
            "image/png": "[encoded data removed]",
            "text/plain": [
              "<Figure size 432x288 with 1 Axes>"
            ]
          },
          "metadata": {
            "tags": []
          }
        }
      ]
    },
    {
      "cell_type": "code",
      "metadata": {
        "id": "bh2sgIbGX1ee",
        "colab_type": "code",
        "colab": {}
      },
      "source": [
        ""
      ],
      "execution_count": 0,
      "outputs": []
    }
  ]
}